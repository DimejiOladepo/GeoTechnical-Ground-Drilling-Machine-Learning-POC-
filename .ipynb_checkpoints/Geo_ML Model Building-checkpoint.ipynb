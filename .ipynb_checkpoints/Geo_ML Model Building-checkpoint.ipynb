{
 "cells": [
  {
   "cell_type": "code",
   "execution_count": 11,
   "metadata": {},
   "outputs": [],
   "source": [
    "import time\n",
    "start_time = time.time()\n",
    "import warnings\n",
    "warnings.filterwarnings('ignore')\n",
    "import re\n",
    "import openpyxl\n",
    "import numpy as np\n",
    "import pandas as pd \n",
    "import os\n",
    "from sklearn.model_selection import train_test_split\n",
    "from sklearn.model_selection import GridSearchCV\n",
    "from sklearn import metrics\n",
    "from sklearn.model_selection import cross_val_score\n",
    "from lightgbm import LGBMClassifier"
   ]
  },
  {
   "cell_type": "code",
   "execution_count": 12,
   "metadata": {},
   "outputs": [
    {
     "name": "stdout",
     "output_type": "stream",
     "text": [
      "--- 1.0208840370178223 seconds ---\n"
     ]
    }
   ],
   "source": [
    "def flattenNestedList(nestedList):\n",
    "    ''' This function converts a nested list to a flat list '''\n",
    "    flatList = []\n",
    "    # Iterate over all the elements in given list\n",
    "    for elem in nestedList:\n",
    "        # Check if type of element is list\n",
    "        if isinstance(elem, list):\n",
    "            # Extend the flat list by adding contents of this element (list)\n",
    "            flatList.extend(flattenNestedList(elem))\n",
    "        else:\n",
    "            # Append the element to the list\n",
    "            flatList.append(elem)    \n",
    " \n",
    "    return flatList\n",
    "print(\"--- %s seconds ---\" % (time.time() - start_time))"
   ]
  },
  {
   "cell_type": "code",
   "execution_count": 4,
   "metadata": {},
   "outputs": [],
   "source": [
    "def datapairlist(folder):\n",
    "    \n",
    "    \"\"\"This function creates a one to one list of lists containing pairs of \n",
    "Cone Penetration Test SND files and their corresponding Laboratory Test results in \n",
    "Workbook per sub-folder \n",
    "    \"\"\"\n",
    "    file_pair_list = list()\n",
    "    \n",
    "    geoML_subfolders = [ sub.path for sub in os.scandir(folder) if sub.is_dir() ]\n",
    "\n",
    "    for subfolder in geoML_subfolders:\n",
    "    \n",
    "        workbook_dir_list = list()\n",
    "        for root, dirs, files in os.walk(subfolder):\n",
    "            for file in files:\n",
    "                if file.endswith(\".xlsm\") or file.endswith(\".xlsx\"):\n",
    "                    workbook_dir_list.append(os.path.join(root,file))\n",
    "        \n",
    "        workbook_id = list()\n",
    "        for _id in workbook_dir_list:\n",
    "            workbook_id.append(_id[:-5].split()[-1])\n",
    "    \n",
    "        id_dictionary = dict(zip(workbook_id, workbook_dir_list))\n",
    "\n",
    "        snd_name_list = list()\n",
    "        for root, dirs, files in os.walk(subfolder):\n",
    "            for file in files:\n",
    "                if file.endswith(\".SND\"):\n",
    "                    snd_name_list.append(file)\n",
    "\n",
    "        snd_match = list()\n",
    "        for element in snd_name_list:\n",
    "            if element[:-4] in workbook_id:\n",
    "                snd_match.append(os.path.join(root, element))\n",
    "\n",
    "        workbook_match = list()\n",
    "        for elements in snd_match:\n",
    "            identifier = elements[:-4].split(\"/\")\n",
    "            workbook_match.append(id_dictionary[identifier[-1]])\n",
    "\n",
    "        file_pairs = list(zip(workbook_match, snd_match))\n",
    "        file_pair_list.append(file_pairs)\n",
    "\n",
    "    file_pair_list_filtered = list(filter(None, file_pair_list))\n",
    "    \n",
    "    pair_lst = []\n",
    "    for level_2 in file_pair_list_filtered:\n",
    "        for level_1 in level_2:\n",
    "            pair_lst.append(list(level_1))\n",
    "    \n",
    "    return(pair_lst)"
   ]
  },
  {
   "cell_type": "code",
   "execution_count": 5,
   "metadata": {},
   "outputs": [],
   "source": [
    "soil_type = {'LEIRE': 'CLAY', 'KVIKKLEIRE': 'QUICK CLAY', 'TØRRSKORPELEIRE': 'WEATHERED CLAY', \n",
    "             'SILT': 'SILT', 'TØRRSKORPESILT': 'WEATHERED SILT', 'SAND': 'SAND', \n",
    "             'GRUS': 'GRAVEL', 'TORV': 'PEAT', 'GYTJE': 'GYTJA', \n",
    "             'ORG. MATR.': 'ORG. MAT.', 'MATJORD': 'TOPSOIL', 'DY': 'DY',\n",
    "             'MATERIALE': 'MATERIAL', 'FYLLMASSE': 'FILL SOIL'}\n",
    "\n",
    "incompatible_pairs = []\n",
    "big_merge_df = pd.DataFrame(columns = [\"Drill Depth (m)\", \"Soil type\", \"X-coordinate\", \"Y-coordinate\", \n",
    "                                       \"Height Above Sea Level\", \"Drill Pressure (kN)\",\"Flushing Pressure (kN)\"])\n",
    "\n",
    "for pair in datapairlist(\"GEOML-1\"):\n",
    "    try:\n",
    "        snd_table = pd.read_csv(pair[1], delimiter = \"\\r\\n\", header = None, sep = \" \", names = \"v\")\n",
    "\n",
    "        snd_table_lst = []\n",
    "        for row in snd_table[15:].values.tolist():\n",
    "            for column in row:\n",
    "                snd_table_lst.append(column.split())\n",
    "\n",
    "        df = pd.DataFrame(snd_table_lst)\n",
    "        snd_table_df = df.iloc[:, :4]\n",
    "        snd_table_df.columns = [\"Drill Depth (m)\", \"Drill Pressure (kN)\", \"Torque\", \"Flushing Pressure (kN)\"]\n",
    "\n",
    "        cleaned_table = snd_table_df\n",
    "\n",
    "        position = snd_table[:2].T\n",
    "        position.columns = [\"X-coordinate\", \"Y-coordinate\"]\n",
    "        position = position.append([position]*(len(cleaned_table)-1), ignore_index=True)\n",
    "\n",
    "        height = float(snd_table['v'][2])\n",
    "        height_box = []\n",
    "        drill_step = round(float(df[0][1]) - float(df[0][0]),4)\n",
    "        for depth in range(len(cleaned_table)):\n",
    "            height -= drill_step\n",
    "            height_box.append(round(height,3))\n",
    "\n",
    "        height_df = pd.DataFrame(height_box, columns = ['Height Above Sea Level'])\n",
    "\n",
    "        snd_df = pd.concat([position, height_df, cleaned_table], axis = 1)\n",
    "\n",
    "        for i in range(0, len(snd_df.columns)):\n",
    "            snd_df.iloc[:,i] = pd.to_numeric(snd_df.iloc[:,i], errors='ignore')\n",
    "        \n",
    "        snd_df = snd_df[snd_df.Torque.notnull()]\n",
    "        snd_df[\"Drill Depth (m)\"] = snd_df[\"Drill Depth (m)\"].astype(float)\n",
    "        \n",
    "        \n",
    "        book = openpyxl.load_workbook(pair[0], data_only = True)\n",
    "        sheetname_list = []\n",
    "        pattern = '^[0-9]*$'\n",
    "        for sheetname in book.sheetnames:\n",
    "            if re.match(pattern, sheetname):\n",
    "                sheetname_list.append(sheetname)\n",
    "        workbook_depth_list = []        \n",
    "        workbook_material_list = []\n",
    "        for sheet in sheetname_list:\n",
    "            sheet_depth_list = []\n",
    "            for value in book[sheet].iter_rows(min_row=8,\n",
    "                                      max_row=24,\n",
    "                                      min_col=4,\n",
    "                                      max_col=4,\n",
    "                                      values_only=True):\n",
    "                if value[0] is None:\n",
    "                    pass\n",
    "                else:\n",
    "                    sheet_depth_list.append(value[0]) \n",
    "            try:\n",
    "                min_depth_value = min(sheet_depth_list)\n",
    "                max_depth_value = max(sheet_depth_list)\n",
    "\n",
    "                sheet_depth_range_list = [min_depth_value]\n",
    "\n",
    "                while max_depth_value > round(min_depth_value,3):\n",
    "                    min_depth_value += drill_step\n",
    "                    sheet_depth_range_list.append(round(min_depth_value,3))\n",
    "                workbook_depth_list.append(sheet_depth_range_list)\n",
    "\n",
    "                for val in book[sheet].iter_rows(min_row=24,\n",
    "                                          max_row=24,\n",
    "                                          min_col=15,\n",
    "                                          max_col=15,\n",
    "                                          values_only = True):\n",
    "                    soil_list = [soil_type[val[0]] for material in range(len(sheet_depth_range_list))]\n",
    "                workbook_material_list.append(soil_list)\n",
    "\n",
    "            except:\n",
    "                continue\n",
    "\n",
    "            workbook_depth_list = flattenNestedList(workbook_depth_list)\n",
    "            workbook_material_list = flattenNestedList(workbook_material_list)\n",
    "            \n",
    "            workbook_df = pd.DataFrame(list(zip(workbook_depth_list, workbook_material_list)), columns =['Drill Depth (m)', 'Soil type']) \n",
    "\n",
    "            for i in range(0, len(workbook_df.columns)):\n",
    "                workbook_df.iloc[:,i] = pd.to_numeric(workbook_df.iloc[:,i], errors='ignore')\n",
    "\n",
    "        merged_df = pd.merge(left=workbook_df, right=snd_df, how='left', left_on='Drill Depth (m)', right_on='Drill Depth (m)')\n",
    "\n",
    "        big_merge_df = big_merge_df.append(merged_df, ignore_index = True, sort = False)\n",
    "\n",
    "    except:\n",
    "        incompatible_pairs.append(pair)\n",
    "        continue"
   ]
  },
  {
   "cell_type": "code",
   "execution_count": 6,
   "metadata": {},
   "outputs": [],
   "source": [
    "big_merge_df.to_csv('data_extract.csv')"
   ]
  },
  {
   "cell_type": "code",
   "execution_count": 7,
   "metadata": {},
   "outputs": [
    {
     "name": "stdout",
     "output_type": "stream",
     "text": [
      "{'boosting_type': 'gbdt', 'colsample_bytree': 0.8, 'learning_rate': 0.05, 'n_estimators': 400, 'num_leaves': 20, 'objective': 'multiclass', 'random_state': 42, 'reg_alpha': 0.5, 'reg_lambda': 1, 'subsample': 0.75}\n",
      "\n",
      "Accuracy: 0.976975\n",
      "Precision: 0.922392\n",
      "Recall: 0.882383\n",
      "F1 score: 0.892249\n",
      "\n",
      "Cross-Validation Score: 0.721386\n"
     ]
    }
   ],
   "source": [
    "dataset = pd.read_csv(r\"data_extract.csv\", index_col = 0)\n",
    "dataset = dataset.dropna(axis=0, how='any', thresh=None, subset=None, inplace=False)\n",
    "\n",
    "y = dataset[\"Soil type\"]\n",
    "X = dataset.drop(\"Soil type\", axis = 1)\n",
    "\n",
    "X_train, X_test, y_train, y_test = train_test_split(X, y, test_size = 0.3, random_state = 50) \n",
    "\n",
    "model = LGBMClassifier()\n",
    "model.fit(X_train, y_train)\n",
    "\n",
    "gridParams = {\n",
    "    'learning_rate': [0.1, 0.05],\n",
    "    'n_estimators': [40, 200, 400],\n",
    "    'num_leaves': [20, 40],\n",
    "    'boosting_type' : ['gbdt'],\n",
    "    'objective' : ['multiclass'],\n",
    "    'random_state' : [42], \n",
    "    'colsample_bytree' : [0.8, 1],\n",
    "    'subsample' : [0.75,1],\n",
    "    'reg_alpha' : [1,0.5],\n",
    "    'reg_lambda' : [1,0.5],\n",
    "    }\n",
    "\n",
    "grid = GridSearchCV(model, gridParams,\n",
    "                    verbose=0,\n",
    "                    cv=4,\n",
    "                    n_jobs=2)\n",
    "\n",
    "grid.fit(X_train, y_train)\n",
    "print(grid.best_params_)\n",
    "print(\"\")"
   ]
  },
  {
   "cell_type": "code",
   "execution_count": null,
   "metadata": {},
   "outputs": [],
   "source": [
    "gbm = LGBMClassifier(boosting_type = 'gbdt', colsample_bytree = 0.8, learning_rate = 0.1, \n",
    "                     n_estimators = 400, num_leaves = 20, objective = 'multiclass', \n",
    "                     random_state = 42, reg_alpha = 0.5, reg_lambda = 0.5, subsample = 0.75)\n",
    "\n",
    "gbm.fit(X_train, y_train)\n",
    "Y_sum = gbm.predict(X_test)\n",
    "\n",
    "accuracy = metrics.accuracy_score(y_test, Y_sum)\n",
    "print('Accuracy: %f' % accuracy)\n",
    "precision = metrics.precision_score(y_test, Y_sum, average = 'macro')\n",
    "print('Precision: %f' % precision)\n",
    "recall = metrics.recall_score(y_test, Y_sum, average = 'macro')\n",
    "print('Recall: %f' % recall)\n",
    "f1 = metrics.f1_score(y_test, Y_sum, average = 'macro')\n",
    "print('F1 score: %f' % f1)\n",
    "\n",
    "print(\"\")\n",
    "print('Cross-Validation Score: %f' % np.mean(cross_val_score(gbm, X, y, cv=10)))"
   ]
  },
  {
   "cell_type": "code",
   "execution_count": null,
   "metadata": {},
   "outputs": [],
   "source": [
    "snd.read('509.snd')"
   ]
  },
  {
   "cell_type": "code",
   "execution_count": null,
   "metadata": {},
   "outputs": [],
   "source": [
    "import soundfile as sf\n",
    "\n",
    "data, samplerate = sf.read('509.snd')"
   ]
  },
  {
   "cell_type": "code",
   "execution_count": null,
   "metadata": {},
   "outputs": [],
   "source": [
    "data"
   ]
  },
  {
   "cell_type": "code",
   "execution_count": null,
   "metadata": {},
   "outputs": [],
   "source": [
    "samplerate"
   ]
  },
  {
   "cell_type": "code",
   "execution_count": null,
   "metadata": {},
   "outputs": [],
   "source": [
    "snd_table = pd.read_csv(r\"509.snd\", delimiter = \"\\r\\n\", header = None, sep = \" \", names = \"v\")"
   ]
  },
  {
   "cell_type": "code",
   "execution_count": null,
   "metadata": {},
   "outputs": [],
   "source": [
    "text[15:]"
   ]
  },
  {
   "cell_type": "code",
   "execution_count": null,
   "metadata": {},
   "outputs": [],
   "source": [
    "text['v'][15]"
   ]
  },
  {
   "cell_type": "code",
   "execution_count": null,
   "metadata": {},
   "outputs": [],
   "source": [
    "text[\"v\"][15].split()"
   ]
  },
  {
   "cell_type": "code",
   "execution_count": null,
   "metadata": {},
   "outputs": [],
   "source": [
    "text[15:].values.tolist()"
   ]
  },
  {
   "cell_type": "code",
   "execution_count": null,
   "metadata": {},
   "outputs": [],
   "source": [
    "emp_lst = []\n",
    "for line in text[15:].values.tolist():\n",
    "    for num in line:\n",
    "        emp_lst.append(num.split())\n",
    "    #print(line.str.split())"
   ]
  },
  {
   "cell_type": "code",
   "execution_count": null,
   "metadata": {},
   "outputs": [],
   "source": [
    "emp_lst"
   ]
  },
  {
   "cell_type": "code",
   "execution_count": null,
   "metadata": {},
   "outputs": [],
   "source": [
    "df = pd.DataFrame(emp_lst)\n",
    "new_df = df.iloc[:-1, :-3]"
   ]
  },
  {
   "cell_type": "code",
   "execution_count": null,
   "metadata": {},
   "outputs": [],
   "source": [
    "new_df.columns = [\"Drill Depth (m)\", \"Drill Pressure (kN)\", \"Torque (Sec*10)\", \"Flushing Pressure (kN)\"]\n",
    "new_df"
   ]
  },
  {
   "cell_type": "code",
   "execution_count": null,
   "metadata": {},
   "outputs": [],
   "source": [
    "position = text[:2].T\n",
    "position.columns = [\"X-coordinate\", \"Y-coordinate\"]\n",
    "position = position.append([position]*(len(new_df)-1), ignore_index=True)\n",
    "position"
   ]
  },
  {
   "cell_type": "code",
   "execution_count": null,
   "metadata": {},
   "outputs": [],
   "source": [
    "height = float(text['v'][2])\n",
    "height_box = []\n",
    "for depth in range(len(new_df)):\n",
    "    height -= 0.025\n",
    "    height_box.append(round(height,3))               "
   ]
  },
  {
   "cell_type": "code",
   "execution_count": null,
   "metadata": {},
   "outputs": [],
   "source": [
    "height_df = pd.DataFrame(height_box, columns = ['Height Above Sea Level'])\n",
    "height_df"
   ]
  },
  {
   "cell_type": "code",
   "execution_count": null,
   "metadata": {},
   "outputs": [],
   "source": [
    "snd_df = pd.concat([position, height_df, new_df], axis = 1)"
   ]
  },
  {
   "cell_type": "code",
   "execution_count": null,
   "metadata": {},
   "outputs": [],
   "source": [
    "for i in range(0, len(snd_df.columns)):\n",
    "    snd_df.iloc[:,i] = pd.to_numeric(snd_df.iloc[:,i], errors='ignore')"
   ]
  },
  {
   "cell_type": "code",
   "execution_count": null,
   "metadata": {},
   "outputs": [],
   "source": [
    "snd_df.dtypes"
   ]
  },
  {
   "cell_type": "code",
   "execution_count": null,
   "metadata": {},
   "outputs": [],
   "source": [
    "snd_df"
   ]
  },
  {
   "cell_type": "code",
   "execution_count": null,
   "metadata": {},
   "outputs": [],
   "source": [
    "[tyu[1] for tyu in opor]\n",
    "#print(tyu[1])"
   ]
  },
  {
   "cell_type": "code",
   "execution_count": null,
   "metadata": {},
   "outputs": [],
   "source": [
    "big_merge_df = pd.DataFrame(columns = [\"Drill Depth (m)\", \"Soil type\", \"X-coordinate\", \"Y-coordinate\", \n",
    "                                       \"Height Above Sea Level\", \"Drill Pressure (kN)\", \"Torque (Sec*10)\", \n",
    "                                       \"Flushing Pressure (kN)\"])\n",
    "\n",
    "snd_table = pd.read_csv('GEOML-1/129681-03/129681-03-12 GEOSUITE UTFùRT/AUTOGRAF.DBF/3C17003.SND', delimiter = \"\\r\\n\", header = None, sep = \" \", names = \"v\")\n",
    "\n",
    "snd_table_lst = []\n",
    "for row in snd_table[15:].values.tolist():\n",
    "    for column in row:\n",
    "        snd_table_lst.append(column.split())\n",
    "\n",
    "df = pd.DataFrame(snd_table_lst)\n",
    "snd_table_df = df.iloc[:, :4]\n",
    "snd_table_df.columns = [\"Drill Depth (m)\", \"Drill Pressure (kN)\", \"Torque\", \"Flushing Pressure (kN)\"]\n",
    "\n",
    "start = df[0][0]\n",
    "stop = '*'\n",
    "\n",
    "cleaned_table = snd_table_df#.set_index('Drill Depth (m)').loc[start:stop].reset_index()[:-1]\n",
    "#print(cleaned_table)\n",
    "\n",
    "position = snd_table[:2].T\n",
    "position.columns = [\"X-coordinate\", \"Y-coordinate\"]\n",
    "position = position.append([position]*(len(cleaned_table)-1), ignore_index=True)\n",
    "\n",
    "height = float(snd_table['v'][2])\n",
    "height_box = []\n",
    "drill_step = round(float(df[0][1]) - float(df[0][0]),4)\n",
    "for depth in range(len(cleaned_table)):\n",
    "    height -= drill_step\n",
    "    height_box.append(round(height,3))\n",
    "\n",
    "height_df = pd.DataFrame(height_box, columns = ['Height Above Sea Level'])\n",
    "\n",
    "snd_df = pd.concat([position, height_df, cleaned_table], axis = 1)\n",
    "\n",
    "for i in range(0, len(snd_df.columns)):\n",
    "    snd_df.iloc[:,i] = pd.to_numeric(snd_df.iloc[:,i], errors='ignore')\n",
    "\n",
    "snd_df = snd_df[snd_df.Torque.notnull()]\n",
    "snd_df[\"Drill Depth (m)\"] = snd_df[\"Drill Depth (m)\"].astype(float)\n",
    "        \n",
    "book = openpyxl.load_workbook('GEOML-1/129681-03/129681-03-07 FELT- OG LABREGISTRERINGER/Geolab/02 - Labbõker/129681-03 Labbok BP 3C17003.xlsm', data_only = True)\n",
    "\n",
    "#90211680-03 Labbok  BP 509 engelsk.xlsx\n",
    "sheetname_list = []\n",
    "pattern = '^[0-9]*$'\n",
    "for sheetname in book.sheetnames:\n",
    "    if re.match(pattern, sheetname):\n",
    "        sheetname_list.append(sheetname)\n",
    "workbook_depth_list = []        \n",
    "workbook_material_list = []\n",
    "for sheet in sheetname_list:\n",
    "    sheet_depth_list = []\n",
    "    for value in book[sheet].iter_rows(min_row=8,\n",
    "                                      max_row=24,\n",
    "                                      min_col=4,\n",
    "                                      max_col=4,\n",
    "                                      values_only=True):\n",
    "        if value[0] is None:\n",
    "            pass\n",
    "        else:\n",
    "            sheet_depth_list.append(value[0]) \n",
    "    try:    \n",
    "        min_depth_value = min(sheet_depth_list)\n",
    "        max_depth_value = max(sheet_depth_list)\n",
    "\n",
    "        sheet_depth_range_list = [min_depth_value]\n",
    "\n",
    "        while max_depth_value > round(min_depth_value,3):\n",
    "            min_depth_value += drill_step\n",
    "            sheet_depth_range_list.append(round(min_depth_value,3))\n",
    "        workbook_depth_list.append(sheet_depth_range_list)\n",
    "\n",
    "        for val in book[sheet].iter_rows(min_row=24,\n",
    "                                          max_row=24,\n",
    "                                          min_col=15,\n",
    "                                          max_col=15,\n",
    "                                          values_only = True):\n",
    "            soil_list = [soil_type[val[0]] for material in range(len(sheet_depth_range_list))]\n",
    "        workbook_material_list.append(soil_list)\n",
    "\n",
    "    except:\n",
    "        continue\n",
    "\n",
    "    #flatten = lambda l: [item for sublist in l for item in sublist]\n",
    "\n",
    "    workbook_depth_list = flattenNestedList(workbook_depth_list)\n",
    "    workbook_material_list = flattenNestedList(workbook_material_list)\n",
    "\n",
    "    workbook_df = pd.DataFrame(list(zip(workbook_depth_list, workbook_material_list)), columns =['Drill Depth (m)', 'Soil type']) \n",
    "\n",
    "    for i in range(0, len(workbook_df.columns)):\n",
    "        workbook_df.iloc[:,i] = pd.to_numeric(workbook_df.iloc[:,i], errors='ignore')\n",
    "\n",
    "merged_df = pd.merge(left=workbook_df, right=snd_df, how='inner', left_on='Drill Depth (m)', right_on='Drill Depth (m)')\n",
    "\n",
    "big_merge_df = big_merge_df.append(merged_df)\n"
   ]
  },
  {
   "cell_type": "code",
   "execution_count": null,
   "metadata": {},
   "outputs": [],
   "source": [
    "dataset = pd.read_csv(r\"biggy.csv\", index_col = 0)\n",
    "dataset = dataset.dropna(axis=0, how='any', thresh=None, subset=None, inplace=False)\n",
    "\n",
    "\n"
   ]
  },
  {
   "cell_type": "code",
   "execution_count": 23,
   "metadata": {},
   "outputs": [
    {
     "data": {
      "text/html": [
       "<div>\n",
       "<style scoped>\n",
       "    .dataframe tbody tr th:only-of-type {\n",
       "        vertical-align: middle;\n",
       "    }\n",
       "\n",
       "    .dataframe tbody tr th {\n",
       "        vertical-align: top;\n",
       "    }\n",
       "\n",
       "    .dataframe thead th {\n",
       "        text-align: right;\n",
       "    }\n",
       "</style>\n",
       "<table border=\"1\" class=\"dataframe\">\n",
       "  <thead>\n",
       "    <tr style=\"text-align: right;\">\n",
       "      <th></th>\n",
       "      <th>Drill Depth (m)</th>\n",
       "      <th>Soil type</th>\n",
       "      <th>X-coordinate</th>\n",
       "      <th>Y-coordinate</th>\n",
       "      <th>Height Above Sea Level</th>\n",
       "      <th>Drill Pressure (kN)</th>\n",
       "      <th>Flushing Pressure (kN)</th>\n",
       "      <th>Torque</th>\n",
       "    </tr>\n",
       "  </thead>\n",
       "  <tbody>\n",
       "    <tr>\n",
       "      <td>15</td>\n",
       "      <td>0.700</td>\n",
       "      <td>ORG. MAT.</td>\n",
       "      <td>1229655.51</td>\n",
       "      <td>89074.28</td>\n",
       "      <td>62.990</td>\n",
       "      <td>0.0</td>\n",
       "      <td>0.0</td>\n",
       "      <td>0.0</td>\n",
       "    </tr>\n",
       "    <tr>\n",
       "      <td>16</td>\n",
       "      <td>0.720</td>\n",
       "      <td>ORG. MAT.</td>\n",
       "      <td>1229655.51</td>\n",
       "      <td>89074.28</td>\n",
       "      <td>62.970</td>\n",
       "      <td>171.0</td>\n",
       "      <td>0.0</td>\n",
       "      <td>1.0</td>\n",
       "    </tr>\n",
       "    <tr>\n",
       "      <td>17</td>\n",
       "      <td>0.740</td>\n",
       "      <td>ORG. MAT.</td>\n",
       "      <td>1229655.51</td>\n",
       "      <td>89074.28</td>\n",
       "      <td>62.950</td>\n",
       "      <td>211.0</td>\n",
       "      <td>0.0</td>\n",
       "      <td>0.0</td>\n",
       "    </tr>\n",
       "    <tr>\n",
       "      <td>18</td>\n",
       "      <td>0.760</td>\n",
       "      <td>ORG. MAT.</td>\n",
       "      <td>1229655.51</td>\n",
       "      <td>89074.28</td>\n",
       "      <td>62.930</td>\n",
       "      <td>215.0</td>\n",
       "      <td>0.0</td>\n",
       "      <td>0.0</td>\n",
       "    </tr>\n",
       "    <tr>\n",
       "      <td>19</td>\n",
       "      <td>0.780</td>\n",
       "      <td>ORG. MAT.</td>\n",
       "      <td>1229655.51</td>\n",
       "      <td>89074.28</td>\n",
       "      <td>62.910</td>\n",
       "      <td>203.0</td>\n",
       "      <td>0.0</td>\n",
       "      <td>0.0</td>\n",
       "    </tr>\n",
       "    <tr>\n",
       "      <td>...</td>\n",
       "      <td>...</td>\n",
       "      <td>...</td>\n",
       "      <td>...</td>\n",
       "      <td>...</td>\n",
       "      <td>...</td>\n",
       "      <td>...</td>\n",
       "      <td>...</td>\n",
       "      <td>...</td>\n",
       "    </tr>\n",
       "    <tr>\n",
       "      <td>7759</td>\n",
       "      <td>15.500</td>\n",
       "      <td>QUICK CLAY</td>\n",
       "      <td>6646785.00</td>\n",
       "      <td>592040.20</td>\n",
       "      <td>118.495</td>\n",
       "      <td>11008.0</td>\n",
       "      <td>4.0</td>\n",
       "      <td>36.0</td>\n",
       "    </tr>\n",
       "    <tr>\n",
       "      <td>7760</td>\n",
       "      <td>15.525</td>\n",
       "      <td>QUICK CLAY</td>\n",
       "      <td>6646785.00</td>\n",
       "      <td>592040.20</td>\n",
       "      <td>118.470</td>\n",
       "      <td>11184.0</td>\n",
       "      <td>4.0</td>\n",
       "      <td>36.0</td>\n",
       "    </tr>\n",
       "    <tr>\n",
       "      <td>7761</td>\n",
       "      <td>15.550</td>\n",
       "      <td>QUICK CLAY</td>\n",
       "      <td>6646785.00</td>\n",
       "      <td>592040.20</td>\n",
       "      <td>118.445</td>\n",
       "      <td>11250.0</td>\n",
       "      <td>4.0</td>\n",
       "      <td>35.0</td>\n",
       "    </tr>\n",
       "    <tr>\n",
       "      <td>7762</td>\n",
       "      <td>15.575</td>\n",
       "      <td>QUICK CLAY</td>\n",
       "      <td>6646785.00</td>\n",
       "      <td>592040.20</td>\n",
       "      <td>118.420</td>\n",
       "      <td>10854.0</td>\n",
       "      <td>4.0</td>\n",
       "      <td>36.0</td>\n",
       "    </tr>\n",
       "    <tr>\n",
       "      <td>7763</td>\n",
       "      <td>15.600</td>\n",
       "      <td>QUICK CLAY</td>\n",
       "      <td>6646785.00</td>\n",
       "      <td>592040.20</td>\n",
       "      <td>118.395</td>\n",
       "      <td>10887.0</td>\n",
       "      <td>4.0</td>\n",
       "      <td>35.0</td>\n",
       "    </tr>\n",
       "  </tbody>\n",
       "</table>\n",
       "<p>7383 rows × 8 columns</p>\n",
       "</div>"
      ],
      "text/plain": [
       "      Drill Depth (m)   Soil type  X-coordinate  Y-coordinate  \\\n",
       "15              0.700   ORG. MAT.    1229655.51      89074.28   \n",
       "16              0.720   ORG. MAT.    1229655.51      89074.28   \n",
       "17              0.740   ORG. MAT.    1229655.51      89074.28   \n",
       "18              0.760   ORG. MAT.    1229655.51      89074.28   \n",
       "19              0.780   ORG. MAT.    1229655.51      89074.28   \n",
       "...               ...         ...           ...           ...   \n",
       "7759           15.500  QUICK CLAY    6646785.00     592040.20   \n",
       "7760           15.525  QUICK CLAY    6646785.00     592040.20   \n",
       "7761           15.550  QUICK CLAY    6646785.00     592040.20   \n",
       "7762           15.575  QUICK CLAY    6646785.00     592040.20   \n",
       "7763           15.600  QUICK CLAY    6646785.00     592040.20   \n",
       "\n",
       "      Height Above Sea Level  Drill Pressure (kN)  Flushing Pressure (kN)  \\\n",
       "15                    62.990                  0.0                     0.0   \n",
       "16                    62.970                171.0                     0.0   \n",
       "17                    62.950                211.0                     0.0   \n",
       "18                    62.930                215.0                     0.0   \n",
       "19                    62.910                203.0                     0.0   \n",
       "...                      ...                  ...                     ...   \n",
       "7759                 118.495              11008.0                     4.0   \n",
       "7760                 118.470              11184.0                     4.0   \n",
       "7761                 118.445              11250.0                     4.0   \n",
       "7762                 118.420              10854.0                     4.0   \n",
       "7763                 118.395              10887.0                     4.0   \n",
       "\n",
       "      Torque  \n",
       "15       0.0  \n",
       "16       1.0  \n",
       "17       0.0  \n",
       "18       0.0  \n",
       "19       0.0  \n",
       "...      ...  \n",
       "7759    36.0  \n",
       "7760    36.0  \n",
       "7761    35.0  \n",
       "7762    36.0  \n",
       "7763    35.0  \n",
       "\n",
       "[7383 rows x 8 columns]"
      ]
     },
     "execution_count": 23,
     "metadata": {},
     "output_type": "execute_result"
    }
   ],
   "source": [
    "dataset"
   ]
  },
  {
   "cell_type": "code",
   "execution_count": null,
   "metadata": {},
   "outputs": [],
   "source": [
    "snd_df[\"Drill Depth (m)\"]"
   ]
  },
  {
   "cell_type": "code",
   "execution_count": null,
   "metadata": {},
   "outputs": [],
   "source": [
    "snd_df[\"Drill Depth (m)\"] = snd_df[\"Drill Depth (m)\"].astype(float)"
   ]
  },
  {
   "cell_type": "code",
   "execution_count": null,
   "metadata": {},
   "outputs": [],
   "source": [
    "big_merge_df"
   ]
  },
  {
   "cell_type": "code",
   "execution_count": null,
   "metadata": {},
   "outputs": [],
   "source": [
    "big_merge_df.to_csv('biggy.csv')"
   ]
  },
  {
   "cell_type": "code",
   "execution_count": null,
   "metadata": {},
   "outputs": [],
   "source": []
  },
  {
   "cell_type": "code",
   "execution_count": 19,
   "metadata": {},
   "outputs": [],
   "source": [
    "soil_code = {'CLAY':'1', 'QUICK CLAY':'2', 'WEATHERED CLAY':'3', 'SILT':'4', 'WEATHERED SILT': '5', 'SAND':'6',\n",
    "            'GRAVEL':'7', 'PEAT':'8', 'GYTJA':'9', 'ORG. MAT.':'10', 'TOPSOIL':'11', 'DY':'12', 'MATERIAL':'13', \n",
    "            'FILL SOIL':'14'}"
   ]
  },
  {
   "cell_type": "code",
   "execution_count": 14,
   "metadata": {},
   "outputs": [],
   "source": [
    "dataset = pd.read_csv(r\"biggy.csv\", index_col = 0)\n",
    "dataset = dataset.dropna(axis=0, how='any', thresh=None, subset=None, inplace=False)"
   ]
  },
  {
   "cell_type": "code",
   "execution_count": 15,
   "metadata": {},
   "outputs": [
    {
     "data": {
      "text/plain": [
       "array(['ORG. MAT.', 'CLAY', 'QUICK CLAY', 'SILT', 'SAND',\n",
       "       'WEATHERED CLAY', 'PEAT', 'MATERIAL', 'FILL SOIL',\n",
       "       'WEATHERED SILT', 'GRAVEL'], dtype=object)"
      ]
     },
     "execution_count": 15,
     "metadata": {},
     "output_type": "execute_result"
    }
   ],
   "source": [
    "dataset[\"Soil type\"].unique()"
   ]
  },
  {
   "cell_type": "code",
   "execution_count": 17,
   "metadata": {},
   "outputs": [
    {
     "data": {
      "text/plain": [
       "CLAY              68.021130\n",
       "WEATHERED CLAY     9.846946\n",
       "QUICK CLAY         9.738589\n",
       "SILT               6.569145\n",
       "SAND               4.104023\n",
       "PEAT               0.677231\n",
       "FILL SOIL          0.392794\n",
       "MATERIAL           0.352160\n",
       "WEATHERED SILT     0.203169\n",
       "ORG. MAT.          0.081268\n",
       "GRAVEL             0.013545\n",
       "Name: Soil type, dtype: float64"
      ]
     },
     "execution_count": 17,
     "metadata": {},
     "output_type": "execute_result"
    }
   ],
   "source": [
    "dataset['Soil type'].value_counts(normalize=True) * 100"
   ]
  },
  {
   "cell_type": "code",
   "execution_count": null,
   "metadata": {},
   "outputs": [],
   "source": [
    "CLAY              \n",
    "WEATHERED CLAY     \n",
    "QUICK CLAY         \n",
    "SILT               \n",
    "SAND               \n",
    "PEAT               \n",
    "FILL SOIL          \n",
    "MATERIAL           \n",
    "WEATHERED SILT     \n",
    "ORG. MAT.          \n",
    "GRAVEL      "
   ]
  },
  {
   "cell_type": "code",
   "execution_count": null,
   "metadata": {},
   "outputs": [],
   "source": [
    "y"
   ]
  },
  {
   "cell_type": "code",
   "execution_count": null,
   "metadata": {},
   "outputs": [],
   "source": [
    "X"
   ]
  },
  {
   "cell_type": "code",
   "execution_count": null,
   "metadata": {},
   "outputs": [],
   "source": [
    "y = dataset[\"Soil type\"]\n",
    "X = dataset.drop(\"Soil type\", axis = 1)"
   ]
  },
  {
   "cell_type": "code",
   "execution_count": 29,
   "metadata": {},
   "outputs": [],
   "source": [
    "from sklearn.model_selection import train_test_split\n",
    "X_train, X_test, y_train, y_test = train_test_split(X, y, test_size = 0.3, random_state = 42) "
   ]
  },
  {
   "cell_type": "code",
   "execution_count": 30,
   "metadata": {},
   "outputs": [
    {
     "data": {
      "text/plain": [
       "LGBMClassifier(boosting_type='gbdt', class_weight=None, colsample_bytree=1.0,\n",
       "               importance_type='split', learning_rate=0.1, max_depth=-1,\n",
       "               min_child_samples=20, min_child_weight=0.001, min_split_gain=0.0,\n",
       "               n_estimators=100, n_jobs=-1, num_leaves=31, objective=None,\n",
       "               random_state=None, reg_alpha=0.0, reg_lambda=0.0, silent=True,\n",
       "               subsample=1.0, subsample_for_bin=200000, subsample_freq=0)"
      ]
     },
     "execution_count": 30,
     "metadata": {},
     "output_type": "execute_result"
    }
   ],
   "source": [
    "from lightgbm import LGBMClassifier\n",
    "model = LGBMClassifier()\n",
    "model.fit(X_train, y_train)"
   ]
  },
  {
   "cell_type": "code",
   "execution_count": 31,
   "metadata": {},
   "outputs": [],
   "source": [
    "pred = model.predict(X_test)"
   ]
  },
  {
   "cell_type": "code",
   "execution_count": 32,
   "metadata": {},
   "outputs": [
    {
     "name": "stdout",
     "output_type": "stream",
     "text": [
      "Accuracy: 0.976975\n"
     ]
    }
   ],
   "source": [
    "accuracy = metrics.accuracy_score(y_test, pred)\n",
    "print('Accuracy: %f' % accuracy)"
   ]
  },
  {
   "cell_type": "code",
   "execution_count": null,
   "metadata": {},
   "outputs": [],
   "source": [
    "from sklearn.model_selection import GridSearchCV\n",
    "gridParams = {\n",
    "    'learning_rate': [0.1, 0.05],\n",
    "    'n_estimators': [40, 200, 400],\n",
    "    'num_leaves': [20, 40],\n",
    "    'boosting_type' : ['gbdt'],\n",
    "    'objective' : ['multiclass'],\n",
    "    'random_state' : [42], \n",
    "    'colsample_bytree' : [0.8, 1],\n",
    "    'subsample' : [0.75,1],\n",
    "    'reg_alpha' : [1,0.5],\n",
    "    'reg_lambda' : [1,0.5],\n",
    "    }"
   ]
  },
  {
   "cell_type": "code",
   "execution_count": null,
   "metadata": {},
   "outputs": [],
   "source": [
    "grid = GridSearchCV(model, gridParams,\n",
    "                    verbose=0,\n",
    "                    cv=4,\n",
    "                    n_jobs=2)"
   ]
  },
  {
   "cell_type": "code",
   "execution_count": null,
   "metadata": {},
   "outputs": [],
   "source": [
    "grid.fit(X_train, y_train)\n",
    "print(grid.best_params_)\n",
    "print(grid.best_score_)"
   ]
  },
  {
   "cell_type": "code",
   "execution_count": null,
   "metadata": {},
   "outputs": [],
   "source": [
    "gbm = LGBMClassifier(boosting_type = 'gbdt', colsample_bytree = 0.8, learning_rate = 0.1, \n",
    "                     n_estimators = 400, num_leaves = 20, objective = 'multiclass', \n",
    "                     random_state = 42, reg_alpha = 0.5, reg_lambda = 0.5, subsample = 0.75)"
   ]
  },
  {
   "cell_type": "code",
   "execution_count": null,
   "metadata": {},
   "outputs": [],
   "source": [
    "gbm.fit(X_train, y_train)\n",
    "Y_sum = gbm.predict(X_test)"
   ]
  },
  {
   "cell_type": "code",
   "execution_count": null,
   "metadata": {},
   "outputs": [],
   "source": [
    "from sklearn.model_selection import cross_val_score\n",
    "print('Cross-Validation Score: %f' % np.mean(cross_val_score(gbm, X, y, cv=10)))"
   ]
  },
  {
   "cell_type": "code",
   "execution_count": null,
   "metadata": {},
   "outputs": [],
   "source": [
    "accuracy = metrics.accuracy_score(y_test, Y_sum)\n",
    "print('Accuracy: %f' % accuracy)\n",
    "precision = metrics.precision_score(y_test, Y_sum, average = 'macro')\n",
    "print('Precision: %f' % precision)\n",
    "recall = metrics.recall_score(y_test, Y_sum, average = 'macro')\n",
    "print('Recall: %f' % recall)\n",
    "f1 = metrics.f1_score(y_test, Y_sum, average = 'macro')\n",
    "print('F1 score: %f' % f1)"
   ]
  },
  {
   "cell_type": "code",
   "execution_count": null,
   "metadata": {},
   "outputs": [],
   "source": [
    "y_predicted = model.predict(X_test)"
   ]
  },
  {
   "cell_type": "code",
   "execution_count": null,
   "metadata": {},
   "outputs": [],
   "source": [
    "from sklearn import metrics\n",
    "metrics.classification_report(y_test, Y_sum)"
   ]
  },
  {
   "cell_type": "code",
   "execution_count": null,
   "metadata": {},
   "outputs": [],
   "source": [
    "metrics.accuracy_score(y_test, y_predicted)"
   ]
  },
  {
   "cell_type": "code",
   "execution_count": null,
   "metadata": {},
   "outputs": [],
   "source": [
    "big_merge_df[\"Torque\"]"
   ]
  },
  {
   "cell_type": "code",
   "execution_count": null,
   "metadata": {},
   "outputs": [],
   "source": [
    "bad"
   ]
  },
  {
   "cell_type": "code",
   "execution_count": null,
   "metadata": {},
   "outputs": [],
   "source": [
    "snd_table = pd.read_csv(r\"GEOML-1/130068/130068-09 GEOSUITE UTFùRT/AUTOGRAF.DBF/2509.SND\", delimiter = \"\\r\\n\", header = None, sep = \" \", names = \"v\")\n",
    "\n",
    "snd_table_lst = []\n",
    "for row in snd_table[15:].values.tolist():\n",
    "    for column in row:\n",
    "        snd_table_lst.append(column.split())\n",
    "        \n",
    "df = pd.DataFrame(snd_table_lst)\n",
    "snd_table_df = df.iloc[:, :4]\n",
    "snd_table_df.columns = [\"Drill Depth(m)\", \"Drill Pressure (kN)\", \"Torque\", \"Flushing Pressure (kN)\"]\n",
    "\n",
    "start = df[0][0]\n",
    "stop = '*'\n",
    "cleaned_table = snd_table_df#.set_index('Drill Depth (m)').loc[start:stop].reset_index()[:-1]\n",
    "#print(cleaned_table)\n",
    "\n",
    "position = snd_table[:2].T\n",
    "position.columns = [\"X-coordinate\", \"Y-coordinate\"]\n",
    "position = position.append([position]*(len(cleaned_table)-1), ignore_index=True)\n",
    "\n",
    "height = float(snd_table['v'][2])\n",
    "height_box = []\n",
    "drill_step = round(float(df[0][1]) - float(df[0][0]),4)\n",
    "for depth in range(len(cleaned_table)):\n",
    "    height -= drill_step\n",
    "    height_box.append(round(height,3))\n",
    "    \n",
    "height_df = pd.DataFrame(height_box, columns = ['Height Above Sea Level'])\n",
    "\n",
    "snd_df = pd.concat([position, height_df, cleaned_table], axis = 1)\n",
    "\n",
    "for i in range(0, len(snd_df.columns)):\n",
    "    snd_df.iloc[:,i] = pd.to_numeric(snd_df.iloc[:,i], errors='ignore')\n",
    "\n",
    "snd_df = snd_df[snd_df.Torque.notnull()]\n",
    "print(snd_df)"
   ]
  },
  {
   "cell_type": "code",
   "execution_count": null,
   "metadata": {},
   "outputs": [],
   "source": [
    "snd_df = snd_df[snd_df.Torque.notnull()]\n",
    "snd_df"
   ]
  },
  {
   "cell_type": "code",
   "execution_count": null,
   "metadata": {},
   "outputs": [],
   "source": [
    "snd_table_df"
   ]
  },
  {
   "cell_type": "code",
   "execution_count": null,
   "metadata": {},
   "outputs": [],
   "source": [
    "drill_step = round(float(df[0][1]) - float(df[0][0]),4)"
   ]
  },
  {
   "cell_type": "code",
   "execution_count": null,
   "metadata": {},
   "outputs": [],
   "source": [
    "start = df[0][0]\n",
    "start"
   ]
  },
  {
   "cell_type": "code",
   "execution_count": null,
   "metadata": {},
   "outputs": [],
   "source": [
    "stop = '*'"
   ]
  },
  {
   "cell_type": "code",
   "execution_count": null,
   "metadata": {},
   "outputs": [],
   "source": [
    "cleaned_table = snd_table_df.set_index('Drill Depth (m)').loc[start:stop].reset_index()[:-1]\n",
    "cleaned_table"
   ]
  },
  {
   "cell_type": "code",
   "execution_count": null,
   "metadata": {},
   "outputs": [],
   "source": [
    "print(df.iloc[ :, :4 ])"
   ]
  },
  {
   "cell_type": "code",
   "execution_count": null,
   "metadata": {},
   "outputs": [],
   "source": [
    "import openpyxl\n",
    "\n",
    "book = openpyxl.load_workbook('GEOML-1/130455/130455-07 FELT- OG LABREGISTRERINGER/GeoLab/130455 Labbok BP 6.xlsm')\n",
    "\n",
    "print(book.sheetnames)"
   ]
  },
  {
   "cell_type": "code",
   "execution_count": null,
   "metadata": {},
   "outputs": [],
   "source": [
    "pattern = '^[0-9]*$'\n",
    "for sheetname in book.sheetnames:\n",
    "    if re.match(pattern, sheetname):\n",
    "        print(sheetname)"
   ]
  },
  {
   "cell_type": "code",
   "execution_count": null,
   "metadata": {},
   "outputs": [],
   "source": [
    "[list(value) for value in book['3'].iter_rows(min_row=8,\n",
    "                              max_row=24,\n",
    "                              min_col=4,\n",
    "                              max_col=4,\n",
    "                              values_only=True)]"
   ]
  },
  {
   "cell_type": "code",
   "execution_count": null,
   "metadata": {},
   "outputs": [],
   "source": [
    "depth_list = []\n",
    "for value in book['3'].iter_rows(min_row=8,\n",
    "                              max_row=24,\n",
    "                              min_col=4,\n",
    "                              max_col=4,\n",
    "                              values_only=True):\n",
    "    if value[0] is None:\n",
    "        pass\n",
    "    else:\n",
    "        print(value[0])\n",
    "        depth_list.append(value[0])\n",
    "        \n",
    "min_depth_value = min(depth_list)\n",
    "max_depth_value = max(depth_list)\n",
    "\n",
    "depth_list_2 = [min_depth_value]\n",
    "\n",
    "while max_depth_value > round(min_depth_value,3):\n",
    "    min_depth_value += 0.025\n",
    "    depth_list_2.append(round(min_depth_value,3))\n",
    "\n",
    "print(depth_list_2)"
   ]
  },
  {
   "cell_type": "code",
   "execution_count": null,
   "metadata": {},
   "outputs": [],
   "source": [
    "for value in book['1'].iter_rows(min_row=24,\n",
    "                              max_row=24,\n",
    "                              min_col=15,\n",
    "                              max_col=15,\n",
    "                              values_only = True):\n",
    "    soil_list = [soil_type[value[0]] for material in range(len(depth_list_2))]\n",
    "        \n",
    "print(soil_list)"
   ]
  },
  {
   "cell_type": "code",
   "execution_count": null,
   "metadata": {},
   "outputs": [],
   "source": [
    "big_merge_df = pd.DataFrame(columns = [\"Drill Depth (m)\", \"Soil type\", \"X-coordinate\", \"Y-coordinate\", \n",
    "                                       \"Height Above Sea Level\", \"Drill Pressure (kN)\", \"Torque (Sec*10)\", \n",
    "                                       \"Flushing Pressure (kN)\"])\n",
    "\n",
    "for tyu in opor:\n",
    "    \n",
    "    book = openpyxl.load_workbook(tyu[0], data_only = True)\n",
    "\n",
    "    #90211680-03 Labbok  BP 509 engelsk.xlsx\n",
    "    sheetname_list = []\n",
    "    pattern = '^[0-9]*$'\n",
    "    for sheetname in book.sheetnames:\n",
    "        if re.match(pattern, sheetname):\n",
    "            sheetname_list.append(sheetname)\n",
    "    workbook_depth_list = []        \n",
    "    workbook_material_list = []\n",
    "    for sheet in sheetname_list:\n",
    "        sheet_depth_list = []\n",
    "        for value in book[sheet].iter_rows(min_row=8,\n",
    "                                  max_row=24,\n",
    "                                  min_col=4,\n",
    "                                  max_col=4,\n",
    "                                  values_only=True):\n",
    "            if value[0] is None:\n",
    "                pass\n",
    "            else:\n",
    "                sheet_depth_list.append(value[0]) \n",
    "        try:\n",
    "            min_depth_value = min(sheet_depth_list)\n",
    "            max_depth_value = max(sheet_depth_list)\n",
    "\n",
    "            sheet_depth_range_list = [min_depth_value]\n",
    "\n",
    "            while max_depth_value > round(min_depth_value,3):\n",
    "                min_depth_value += drill_step\n",
    "                sheet_depth_range_list.append(round(min_depth_value,3))\n",
    "            workbook_depth_list.append(sheet_depth_range_list)\n",
    "\n",
    "            for val in book[sheet].iter_rows(min_row=24,\n",
    "                                  max_row=24,\n",
    "                                  min_col=15,\n",
    "                                  max_col=15,\n",
    "                                  values_only = True):\n",
    "                soil_list = [soil_type[val[0]] for material in range(len(sheet_depth_range_list))]\n",
    "            workbook_material_list.append(soil_list)\n",
    "        except:\n",
    "            continue\n",
    "\n",
    "    flatten = lambda l: [item for sublist in l for item in sublist]\n",
    "\n",
    "    workbook_depth_list = flatten(workbook_depth_list)\n",
    "    workbook_material_list = flatten(workbook_material_list)\n",
    "\n",
    "    workbook_df = pd.DataFrame(list(zip(workbook_depth_list, workbook_material_list)), columns =['Drill Depth (m)', 'Soil type']) \n",
    "\n",
    "    for i in range(0, len(workbook_df.columns)):\n",
    "        workbook_df.iloc[:,i] = pd.to_numeric(workbook_df.iloc[:,i], errors='ignore')\n",
    "\n",
    "    merged_df = pd.merge(left=workbook_df, right=snd_df, how='left', left_on='Drill Depth (m)', right_on='Drill Depth (m)')\n",
    "    \n",
    "    big_merge_df.append(merged_df)\n",
    "    "
   ]
  },
  {
   "cell_type": "code",
   "execution_count": null,
   "metadata": {},
   "outputs": [],
   "source": [
    "big_merge_df = pd.DataFrame(columns = [\"Drill Depth (m)\", \"Soil type\", \"X-coordinate\", \"Y-coordinate\", \n",
    "                                       \"Height Above Sea Level\", \"Drill Pressure (kN)\", \"Torque (Sec*10)\", \n",
    "                                       \"Flushing Pressure (kN)\"])\n",
    "big_merge_df.append(merged_df)"
   ]
  },
  {
   "cell_type": "code",
   "execution_count": null,
   "metadata": {},
   "outputs": [],
   "source": [
    "workbook_depth_list"
   ]
  },
  {
   "cell_type": "code",
   "execution_count": null,
   "metadata": {},
   "outputs": [],
   "source": [
    "flatten = lambda l: [item for sublist in l for item in sublist]\n",
    "workbook_depth_list = flatten(workbook_depth_list)\n",
    "workbook_material_list = flatten(workbook_material_list)"
   ]
  },
  {
   "cell_type": "code",
   "execution_count": null,
   "metadata": {},
   "outputs": [],
   "source": [
    "workbook_df = pd.DataFrame(list(zip(workbook_depth_list, workbook_material_list)), columns =['Drill Depth (m)', 'Soil type']) \n",
    "workbook_df"
   ]
  },
  {
   "cell_type": "code",
   "execution_count": null,
   "metadata": {},
   "outputs": [],
   "source": [
    "for i in range(0, len(workbook_df.columns)):\n",
    "    workbook_df.iloc[:,i] = pd.to_numeric(workbook_df.iloc[:,i], errors='ignore')"
   ]
  },
  {
   "cell_type": "code",
   "execution_count": null,
   "metadata": {},
   "outputs": [],
   "source": [
    "merged_left = pd.merge(left=workbook_df, right=snd_df, how='left', left_on='Drill Depth (m)', right_on='Drill Depth (m)')\n",
    "merged_left"
   ]
  },
  {
   "cell_type": "code",
   "execution_count": null,
   "metadata": {},
   "outputs": [],
   "source": [
    "import os\n",
    "rec = list()\n",
    "for root, dirs, files in os.walk(\"GEOML-1/130455\"):\n",
    "    for file in files:\n",
    "        if file.endswith(\".xlsm\") or file.endswith(\".xlsx\"):\n",
    "            rec.append(os.path.join(root,file))\n",
    "            print(os.path.join(root, file))"
   ]
  },
  {
   "cell_type": "code",
   "execution_count": null,
   "metadata": {},
   "outputs": [],
   "source": [
    "rec"
   ]
  },
  {
   "cell_type": "code",
   "execution_count": null,
   "metadata": {},
   "outputs": [],
   "source": [
    "again = list()\n",
    "for x in rec:\n",
    "    print(x[:-5].split()[-1])\n",
    "    again.append(x[:-5].split()[-1])"
   ]
  },
  {
   "cell_type": "code",
   "execution_count": null,
   "metadata": {},
   "outputs": [],
   "source": [
    "again"
   ]
  },
  {
   "cell_type": "code",
   "execution_count": null,
   "metadata": {},
   "outputs": [],
   "source": [
    "id_dictionary = dict(zip(again, rec))\n",
    "id_dictionary"
   ]
  },
  {
   "cell_type": "code",
   "execution_count": null,
   "metadata": {},
   "outputs": [],
   "source": [
    "xev = list()\n",
    "for root, dirs, files in os.walk(\"GEOML-1/130455\"):\n",
    "    for file in files:\n",
    "        if file.endswith(\".SND\"):\n",
    "            xev.append(file)"
   ]
  },
  {
   "cell_type": "code",
   "execution_count": null,
   "metadata": {},
   "outputs": [],
   "source": [
    "xev"
   ]
  },
  {
   "cell_type": "code",
   "execution_count": null,
   "metadata": {},
   "outputs": [],
   "source": [
    "snd_match = list()\n",
    "for thing in xev:\n",
    "    if thing[:-4] in again:\n",
    "        snd_match.append(os.path.join(root, thing))\n",
    "snd_match"
   ]
  },
  {
   "cell_type": "code",
   "execution_count": null,
   "metadata": {},
   "outputs": [],
   "source": [
    "workbook_match = list()\n",
    "for some in snd_match:\n",
    "    identifier = some[:-4].split(\"/\")\n",
    "    workbook_match.append(id_dictionary[identifier[-1]])\n",
    "workbook_match"
   ]
  },
  {
   "cell_type": "code",
   "execution_count": null,
   "metadata": {},
   "outputs": [],
   "source": [
    "m = list(zip(workbook_match, snd_match))\n",
    "m"
   ]
  },
  {
   "cell_type": "code",
   "execution_count": null,
   "metadata": {},
   "outputs": [],
   "source": [
    "for element in m:\n",
    "    print(element[0])"
   ]
  },
  {
   "cell_type": "code",
   "execution_count": null,
   "metadata": {},
   "outputs": [],
   "source": [
    "ohh"
   ]
  },
  {
   "cell_type": "code",
   "execution_count": null,
   "metadata": {},
   "outputs": [],
   "source": [
    "geoML_subfolders = [ sub.path for sub in os.scandir(\"GEOML-1\") if sub.is_dir() ]\n",
    "geoML_subfolders "
   ]
  },
  {
   "cell_type": "code",
   "execution_count": null,
   "metadata": {},
   "outputs": [],
   "source": [
    "ret = datafilelist(\"GEOML-1\") \n",
    "ret"
   ]
  },
  {
   "cell_type": "code",
   "execution_count": null,
   "metadata": {},
   "outputs": [],
   "source": [
    "opor = []\n",
    "for a in ret:\n",
    "    for b in a:\n",
    "        opor.append(list(b))\n",
    "opor        #for c in b:\n",
    "        #print(c)"
   ]
  },
  {
   "cell_type": "code",
   "execution_count": null,
   "metadata": {},
   "outputs": [],
   "source": [
    "opor[0][0]"
   ]
  },
  {
   "cell_type": "code",
   "execution_count": null,
   "metadata": {},
   "outputs": [],
   "source": [
    "for tyu in opor:\n",
    "    print(str(tyu[1]))"
   ]
  },
  {
   "cell_type": "code",
   "execution_count": null,
   "metadata": {},
   "outputs": [],
   "source": [
    "list(xev)"
   ]
  },
  {
   "cell_type": "code",
   "execution_count": null,
   "metadata": {},
   "outputs": [],
   "source": [
    "xev = set()\n",
    "for root, dirs, files in os.walk(\"GEOML-1/130106\"):\n",
    "    for file in files:\n",
    "        if file.endswith(\".SND\") and file[:-4] in again:\n",
    "            xev.add(os.path.join(root, file))"
   ]
  },
  {
   "cell_type": "code",
   "execution_count": null,
   "metadata": {},
   "outputs": [],
   "source": [
    "and file[-5:-4] in again"
   ]
  },
  {
   "cell_type": "code",
   "execution_count": null,
   "metadata": {},
   "outputs": [],
   "source": [
    "xev[-5:-4]"
   ]
  },
  {
   "cell_type": "code",
   "execution_count": null,
   "metadata": {},
   "outputs": [],
   "source": [
    "import os\n",
    "for file in os.listdir(\"/Macintosh HD⁩/⁨Users⁩/⁨dimejioladepo⁩/⁨Downloads⁩/GEOML-1\"):\n",
    "    if file.endswith(\".xlsm\"):\n",
    "        print(os.path.join(\"Macintosh HD⁩/⁨Users⁩/⁨dimejioladepo⁩/⁨Downloads⁩/GEOML-1\", file))"
   ]
  },
  {
   "cell_type": "code",
   "execution_count": null,
   "metadata": {},
   "outputs": [],
   "source": [
    "mu = 0\n",
    "for root, dirs, files in os.walk(\"GEOML-1\"):\n",
    "    for file in files:\n",
    "        if file.endswith('.xlsm') or file.endswith('.xlsx'):\n",
    "            mu += 1\n",
    "            print(file)\n",
    "mu"
   ]
  },
  {
   "cell_type": "code",
   "execution_count": null,
   "metadata": {},
   "outputs": [],
   "source": [
    "mur = 0\n",
    "for root, dirs, files in os.walk(\"GEOML-1\"):\n",
    "    for file in files:\n",
    "        if file.endswith('.SND'):\n",
    "            mur += 1\n",
    "            print(file)\n",
    "mur"
   ]
  },
  {
   "cell_type": "code",
   "execution_count": null,
   "metadata": {},
   "outputs": [],
   "source": [
    "active_sheet = book.active\n",
    "print(active_sheet)\n",
    "\n",
    "sheet = book.get_sheet_by_name(\"1\",\"2\",\"3\")\n",
    "print(sheet.title)"
   ]
  },
  {
   "cell_type": "code",
   "execution_count": null,
   "metadata": {},
   "outputs": [],
   "source": [
    "split_text = text[\"v\"].str.split(\" \")\n",
    "x = split_text.to_list()\n",
    "name = [\"AA\", \"AB\", \"AC\", \"AD\"]\n",
    "df = pd.DataFrame(x, columns = name)"
   ]
  },
  {
   "cell_type": "code",
   "execution_count": null,
   "metadata": {},
   "outputs": [],
   "source": [
    "text = open(\"509.txt\", 'rb')\n",
    "text_1 = text.read().decode(errors = 'ignore')"
   ]
  },
  {
   "cell_type": "code",
   "execution_count": null,
   "metadata": {},
   "outputs": [],
   "source": [
    "text_1"
   ]
  },
  {
   "cell_type": "code",
   "execution_count": null,
   "metadata": {},
   "outputs": [],
   "source": [
    "import soundfile as sf\n",
    "\n",
    "with sf.SoundFile('509.snd', 'r+') as f:\n",
    "    while f.tell() < f.frames:\n",
    "        pos = f.tell()\n",
    "        data = f.read(1024)\n",
    "        f.seek(pos)\n",
    "        f.write(data*2)"
   ]
  },
  {
   "cell_type": "code",
   "execution_count": null,
   "metadata": {},
   "outputs": [],
   "source": [
    "data"
   ]
  }
 ],
 "metadata": {
  "kernelspec": {
   "display_name": "Python 3",
   "language": "python",
   "name": "python3"
  },
  "language_info": {
   "codemirror_mode": {
    "name": "ipython",
    "version": 3
   },
   "file_extension": ".py",
   "mimetype": "text/x-python",
   "name": "python",
   "nbconvert_exporter": "python",
   "pygments_lexer": "ipython3",
   "version": "3.7.4"
  }
 },
 "nbformat": 4,
 "nbformat_minor": 2
}
